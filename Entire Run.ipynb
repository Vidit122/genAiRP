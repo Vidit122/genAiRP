{
  "nbformat": 4,
  "nbformat_minor": 0,
  "metadata": {
    "colab": {
      "provenance": [],
      "collapsed_sections": [
        "Ok780DhtJmKv",
        "OxbJYjAmJIs3"
      ]
    },
    "kernelspec": {
      "name": "python3",
      "display_name": "Python 3"
    },
    "language_info": {
      "name": "python"
    }
  },
  "cells": [
    {
      "cell_type": "code",
      "source": [
        "!pip install tensorflow==2.15"
      ],
      "metadata": {
        "id": "p3lkxn2rFSu0"
      },
      "execution_count": null,
      "outputs": []
    },
    {
      "cell_type": "code",
      "source": [
        "!pip install opencv-python docopt numpy"
      ],
      "metadata": {
        "colab": {
          "base_uri": "https://localhost:8080/"
        },
        "id": "VaisiG5H3JIL",
        "outputId": "2e396577-9db7-47e4-d204-a7157467d085"
      },
      "execution_count": null,
      "outputs": [
        {
          "output_type": "stream",
          "name": "stdout",
          "text": [
            "Requirement already satisfied: opencv-python in /usr/local/lib/python3.10/dist-packages (4.10.0.84)\n",
            "Collecting docopt\n",
            "  Downloading docopt-0.6.2.tar.gz (25 kB)\n",
            "  Preparing metadata (setup.py) ... \u001b[?25l\u001b[?25hdone\n",
            "Requirement already satisfied: numpy in /usr/local/lib/python3.10/dist-packages (1.26.4)\n",
            "Building wheels for collected packages: docopt\n",
            "  Building wheel for docopt (setup.py) ... \u001b[?25l\u001b[?25hdone\n",
            "  Created wheel for docopt: filename=docopt-0.6.2-py2.py3-none-any.whl size=13706 sha256=c152f4b6ff2889b836b2adccbeeb7ce666cca46dc01e074496a46bebe136cea6\n",
            "  Stored in directory: /root/.cache/pip/wheels/fc/ab/d4/5da2067ac95b36618c629a5f93f809425700506f72c9732fac\n",
            "Successfully built docopt\n",
            "Installing collected packages: docopt\n",
            "Successfully installed docopt-0.6.2\n"
          ]
        }
      ]
    },
    {
      "cell_type": "markdown",
      "source": [
        "# Model Loading and Functions"
      ],
      "metadata": {
        "id": "evPmrlvPIIpv"
      }
    },
    {
      "cell_type": "code",
      "source": [
        "import keras\n",
        "print(keras. __version__)"
      ],
      "metadata": {
        "colab": {
          "base_uri": "https://localhost:8080/"
        },
        "id": "1Q3D_4g0M77X",
        "outputId": "fa7d2094-88c8-4c19-d660-a5bcb0cf0035"
      },
      "execution_count": null,
      "outputs": [
        {
          "output_type": "stream",
          "name": "stdout",
          "text": [
            "2.15.0\n"
          ]
        }
      ]
    },
    {
      "cell_type": "code",
      "source": [
        "import torch\n",
        "import pickle\n",
        "place_path = '/content/drive/MyDrive/ML/Models/finalized_model.pkl'\n",
        "animal_path = '/content/drive/MyDrive/ML/Models/final_animal_model.pkl'\n",
        "\n",
        "\n",
        "p_model = pickle.load(open(place_path,'rb'))\n",
        "a_model = pickle.load(open(animal_path,'rb'))"
      ],
      "metadata": {
        "id": "l5SyAkKpIIT_"
      },
      "execution_count": null,
      "outputs": []
    },
    {
      "cell_type": "code",
      "source": [
        "import cv2\n",
        "import numpy as np\n",
        "\n",
        "def load_and_preprocess_place(image_path):\n",
        "  IMAGE_SIZE = (150, 150)\n",
        "  # Load the image\n",
        "  image = cv2.imread(image_path)\n",
        "  image = cv2.cvtColor(image, cv2.COLOR_BGR2RGB)\n",
        "  image = cv2.resize(image, IMAGE_SIZE)\n",
        "\n",
        "  # Normalize the image\n",
        "  image = image / 255.0\n",
        "\n",
        "  return image\n",
        "\n",
        "def predict_place(p_model, image_path,class_names):\n",
        "  # Load and preprocess the image\n",
        "  image = load_and_preprocess_place(image_path)\n",
        "\n",
        "  # Add batch dimension\n",
        "  image = np.expand_dims(image, axis=0)\n",
        "\n",
        "  # Predict the class\n",
        "  predictions = p_model.predict(image)\n",
        "  pred_label = np.argmax(predictions, axis=1)[0]\n",
        "\n",
        "  return class_names[pred_label]\n",
        "\n",
        "def load_and_preprocess_animal(image_path):\n",
        "  TARGET_SIZE = (224, 224)\n",
        "  img = cv2.imread(image_path)\n",
        "  img = cv2.cvtColor(img, cv2.COLOR_BGR2RGB)\n",
        "  img = cv2.resize(img, TARGET_SIZE)\n",
        "  img = img.reshape(1,224,224,3)\n",
        "\n",
        "  return img\n",
        "\n",
        "def predict_animal(a_model,image_path,labels):\n",
        "  image = load_and_preprocess_animal(image_path)\n",
        "  pred = a_model.predict(image)\n",
        "  pred = np.argmax(pred,axis=1)\n",
        "\n",
        "  return labels[pred[0]]"
      ],
      "metadata": {
        "id": "9iW48DKfIDhn"
      },
      "execution_count": null,
      "outputs": []
    },
    {
      "cell_type": "code",
      "source": [
        "from cryptography.fernet import Fernet\n",
        "\n",
        "# Generate 16 Fernet keys corresponding to 4-bit numbers (0 to 15)\n",
        "fernet_keys = {}\n",
        "\n",
        "# Loop through the 4-bit numbers (0 to 15)\n",
        "for i in range(16):\n",
        "    key = Fernet.generate_key()\n",
        "    fernet_keys[f\"{i:04b}\"] = key.decode()  # Use 4-bit binary string as the key\n",
        "\n",
        "# Display the generated keys\n",
        "for bit_num, key in fernet_keys.items():\n",
        "    print(f\"{bit_num}: {key}\")"
      ],
      "metadata": {
        "id": "9Akiq8WyuuL-"
      },
      "execution_count": null,
      "outputs": []
    },
    {
      "cell_type": "code",
      "source": [
        "from cryptography.fernet import Fernet\n",
        "\n",
        "sender_key = Fernet.generate_key().decode()\n",
        "receiver_key = sender_key\n",
        "\n",
        "print(sender_key)"
      ],
      "metadata": {
        "colab": {
          "base_uri": "https://localhost:8080/"
        },
        "id": "B7Q2NL07MG-c",
        "outputId": "d9992b6d-3281-4565-e7af-57482c97e70c"
      },
      "execution_count": null,
      "outputs": [
        {
          "output_type": "stream",
          "name": "stdout",
          "text": [
            "6718RDKsAU1jjhm_EppvFiNBYczkU_re0ceAh1ppmcc=\n"
          ]
        }
      ]
    },
    {
      "cell_type": "code",
      "source": [
        "def generate_byte(p_model,a_model,image_path):\n",
        "  class_names = ['mountain', 'buildings', 'sea', 'forest']\n",
        "  labels= {0: 'cane', 1: 'gallina', 2: 'pecora', 3: 'ragno'}\n",
        "  animal = predict_animal(a_model,image_path,labels)\n",
        "  place = predict_place(p_model,image_path,class_names)\n",
        "  print(animal,place)\n",
        "  bit = feature_map_rev[\"animal\"][animal] + feature_map_rev[\"place\"][place]\n",
        "  return bit\n",
        "\n",
        "feature_map_rev={\n",
        "    'place': {'mountain': '00', 'sea': '01', 'buildings': '10', 'forest': '11'},\n",
        "    'animal': {'cane': '00', 'ragno': '10', 'pecora': '01', 'gallina': '11'}\n",
        "}"
      ],
      "metadata": {
        "id": "IID_DxOeKTOi"
      },
      "execution_count": null,
      "outputs": []
    },
    {
      "cell_type": "code",
      "source": [
        "key_map  = generate_byte(p_model,a_model,\"/content/ChickenBuildings1.png\")"
      ],
      "metadata": {
        "colab": {
          "base_uri": "https://localhost:8080/"
        },
        "id": "_bF-phpvKmXy",
        "outputId": "6030fa4c-7068-4a22-cd89-cd971c8c6da4"
      },
      "execution_count": null,
      "outputs": [
        {
          "output_type": "stream",
          "name": "stdout",
          "text": [
            "1/1 [==============================] - 0s 455ms/step\n",
            "1/1 [==============================] - 0s 28ms/step\n",
            "gallina buildings\n"
          ]
        }
      ]
    },
    {
      "cell_type": "markdown",
      "source": [
        "# Encryption"
      ],
      "metadata": {
        "id": "Ok780DhtJmKv"
      }
    },
    {
      "cell_type": "code",
      "source": [
        "from cryptography.fernet import Fernet\n",
        "\n",
        "\n",
        "fernet = Fernet(sender_key.encode())\n",
        "\n",
        "# Message to encode\n",
        "message = \"This is a secret message\"\n",
        "\n",
        "# Encode the message\n",
        "encoded_message = fernet.encrypt(message.encode())  # Encrypted bytes\n",
        "encoded_message_str = encoded_message.decode()\n",
        "print(f\"Encoded (String format): {encoded_message_str}\")\n",
        "\n",
        "# Decode the message\n",
        "decoded_message_bytes = encoded_message_str.encode()  # Convert string back to bytes\n",
        "decoded_message = fernet.decrypt(decoded_message_bytes).decode()\n",
        "\n",
        "# Decode the message\n",
        "# decoded_message = fernet.decrypt(encoded_message.encode('utf-8')).decode()\n",
        "print(f\"Decoded: {decoded_message}\")\n"
      ],
      "metadata": {
        "colab": {
          "base_uri": "https://localhost:8080/"
        },
        "id": "LPgs8oo5vaBV",
        "outputId": "cad8dc02-0e4d-41fd-9a42-1e485aea4d7a"
      },
      "execution_count": null,
      "outputs": [
        {
          "output_type": "stream",
          "name": "stdout",
          "text": [
            "Encoded (String format): gAAAAABnN1vDWG0PcL45LmEMNnfXwJfH339pMpDqp8jzehfmzuJJfiOU55yid9pHRrCkag_OKOuYplm8VLY34iRI9PtFfTkuXU2iFTEAxGLP9Hd6ZgB4H7M=\n",
            "Decoded: This is a secret message\n"
          ]
        }
      ]
    },
    {
      "cell_type": "markdown",
      "source": [
        "# Steganography"
      ],
      "metadata": {
        "id": "OxbJYjAmJIs3"
      }
    },
    {
      "cell_type": "code",
      "source": [
        "\"\"\"LSBSteg.py\n",
        "\n",
        "Usage:\n",
        "  LSBSteg.py encode -i <input> -o <output> -f <file>\n",
        "  LSBSteg.py decode -i <input> -o <output>\n",
        "\n",
        "Options:\n",
        "  -h, --help                Show this help\n",
        "  --version                 Show the version\n",
        "  -f,--file=<file>          File to hide\n",
        "  -i,--in=<input>           Input image (carrier)\n",
        "  -o,--out=<output>         Output image (or extracted file)\n",
        "\"\"\"\n",
        "\n",
        "import cv2\n",
        "import numpy as np\n",
        "\n",
        "\n",
        "class SteganographyException(Exception):\n",
        "    pass\n",
        "\n",
        "\n",
        "class LSBSteg():\n",
        "    def __init__(self, im):\n",
        "        self.image = im\n",
        "        self.height, self.width, self.nbchannels = im.shape\n",
        "        self.size = self.width * self.height\n",
        "\n",
        "        self.maskONEValues = [1,2,4,8,16,32,64,128]\n",
        "        #Mask used to put one ex:1->00000001, 2->00000010 .. associated with OR bitwise\n",
        "        self.maskONE = self.maskONEValues.pop(0) #Will be used to do bitwise operations\n",
        "\n",
        "        self.maskZEROValues = [254,253,251,247,239,223,191,127]\n",
        "        #Mak used to put zero ex:254->11111110, 253->11111101 .. associated with AND bitwise\n",
        "        self.maskZERO = self.maskZEROValues.pop(0)\n",
        "\n",
        "        self.curwidth = 0  # Current width position\n",
        "        self.curheight = 0 # Current height position\n",
        "        self.curchan = 0   # Current channel position\n",
        "\n",
        "    def put_binary_value(self, bits): #Put the bits in the image\n",
        "        for c in bits:\n",
        "            val = list(self.image[self.curheight,self.curwidth]) #Get the pixel value as a list\n",
        "            if int(c) == 1:\n",
        "                val[self.curchan] = int(val[self.curchan]) | self.maskONE #OR with maskONE\n",
        "            else:\n",
        "                val[self.curchan] = int(val[self.curchan]) & self.maskZERO #AND with maskZERO\n",
        "\n",
        "            self.image[self.curheight,self.curwidth] = tuple(val)\n",
        "            self.next_slot() #Move \"cursor\" to the next space\n",
        "\n",
        "    def next_slot(self):#Move to the next slot were information can be taken or put\n",
        "        if self.curchan == self.nbchannels-1: #Next Space is the following channel\n",
        "            self.curchan = 0\n",
        "            if self.curwidth == self.width-1: #Or the first channel of the next pixel of the same line\n",
        "                self.curwidth = 0\n",
        "                if self.curheight == self.height-1:#Or the first channel of the first pixel of the next line\n",
        "                    self.curheight = 0\n",
        "                    if self.maskONE == 128: #Mask 1000000, so the last mask\n",
        "                        raise SteganographyException(\"No available slot remaining (image filled)\")\n",
        "                    else: #Or instead of using the first bit start using the second and so on..\n",
        "                        self.maskONE = self.maskONEValues.pop(0)\n",
        "                        self.maskZERO = self.maskZEROValues.pop(0)\n",
        "                else:\n",
        "                    self.curheight +=1\n",
        "            else:\n",
        "                self.curwidth +=1\n",
        "        else:\n",
        "            self.curchan +=1\n",
        "\n",
        "    def read_bit(self): #Read a single bit int the image\n",
        "        val = self.image[self.curheight,self.curwidth][self.curchan]\n",
        "        val = int(val) & self.maskONE\n",
        "        self.next_slot()\n",
        "        if val > 0:\n",
        "            return \"1\"\n",
        "        else:\n",
        "            return \"0\"\n",
        "\n",
        "    def read_byte(self):\n",
        "        return self.read_bits(8)\n",
        "\n",
        "    def read_bits(self, nb): #Read the given number of bits\n",
        "        bits = \"\"\n",
        "        for i in range(nb):\n",
        "            bits += self.read_bit()\n",
        "        return bits\n",
        "\n",
        "    def byteValue(self, val):\n",
        "        return self.binary_value(val, 8)\n",
        "\n",
        "    def binary_value(self, val, bitsize): #Return the binary value of an int as a byte\n",
        "        binval = bin(val)[2:]\n",
        "        if len(binval) > bitsize:\n",
        "            raise SteganographyException(\"binary value larger than the expected size\")\n",
        "        while len(binval) < bitsize:\n",
        "            binval = \"0\"+binval\n",
        "        return binval\n",
        "\n",
        "    def encode_text(self, txt):\n",
        "        l = len(txt)\n",
        "        binl = self.binary_value(l, 16) #Length coded on 2 bytes so the text size can be up to 65536 bytes long\n",
        "        self.put_binary_value(binl) #Put text length coded on 4 bytes\n",
        "        for char in txt: #And put all the chars\n",
        "            c = ord(char)\n",
        "            self.put_binary_value(self.byteValue(c))\n",
        "        return self.image\n",
        "\n",
        "    def decode_text(self):\n",
        "        ls = self.read_bits(16) #Read the text size in bytes\n",
        "        l = int(ls,2)\n",
        "        i = 0\n",
        "        unhideTxt = \"\"\n",
        "        while i < l: #Read all bytes of the text\n",
        "            tmp = self.read_byte() #So one byte\n",
        "            i += 1\n",
        "            unhideTxt += chr(int(tmp,2)) #Every chars concatenated to str\n",
        "        return unhideTxt\n",
        "\n",
        "    def encode_image(self, imtohide):\n",
        "        w = imtohide.width\n",
        "        h = imtohide.height\n",
        "        if self.width*self.height*self.nbchannels < w*h*imtohide.channels:\n",
        "            raise SteganographyException(\"Carrier image not big enough to hold all the datas to steganography\")\n",
        "        binw = self.binary_value(w, 16) #Width coded on to byte so width up to 65536\n",
        "        binh = self.binary_value(h, 16)\n",
        "        self.put_binary_value(binw) #Put width\n",
        "        self.put_binary_value(binh) #Put height\n",
        "        for h in range(imtohide.height): #Iterate the hole image to put every pixel values\n",
        "            for w in range(imtohide.width):\n",
        "                for chan in range(imtohide.channels):\n",
        "                    val = imtohide[h,w][chan]\n",
        "                    self.put_binary_value(self.byteValue(int(val)))\n",
        "        return self.image\n",
        "\n",
        "\n",
        "    def decode_image(self):\n",
        "        width = int(self.read_bits(16),2) #Read 16bits and convert it in int\n",
        "        height = int(self.read_bits(16),2)\n",
        "        unhideimg = np.zeros((width,height, 3), np.uint8) #Create an image in which we will put all the pixels read\n",
        "        for h in range(height):\n",
        "            for w in range(width):\n",
        "                for chan in range(unhideimg.channels):\n",
        "                    val = list(unhideimg[h,w])\n",
        "                    val[chan] = int(self.read_byte(),2) #Read the value\n",
        "                    unhideimg[h,w] = tuple(val)\n",
        "        return unhideimg\n",
        "\n",
        "    def encode_binary(self, data):\n",
        "        l = len(data)\n",
        "        if self.width*self.height*self.nbchannels < l+64:\n",
        "            raise SteganographyException(\"Carrier image not big enough to hold all the datas to steganography\")\n",
        "        self.put_binary_value(self.binary_value(l, 64))\n",
        "        for byte in data:\n",
        "            byte = byte if isinstance(byte, int) else ord(byte) # Compat py2/py3\n",
        "            self.put_binary_value(self.byteValue(byte))\n",
        "        return self.image\n",
        "\n",
        "    def decode_binary(self):\n",
        "        l = int(self.read_bits(64), 2)\n",
        "        output = b\"\"\n",
        "        for i in range(l):\n",
        "            output += bytearray([int(self.read_byte(),2)])\n",
        "        return output"
      ],
      "metadata": {
        "id": "3PR2sQbH3E5f"
      },
      "execution_count": null,
      "outputs": []
    },
    {
      "cell_type": "markdown",
      "source": [
        "# Encryption with steg (First Step)"
      ],
      "metadata": {
        "id": "THOnYtDi6ejW"
      }
    },
    {
      "cell_type": "code",
      "source": [
        "key_map  = generate_byte(p_model,a_model,\"/content/ChickenBuildings1.png\")"
      ],
      "metadata": {
        "colab": {
          "base_uri": "https://localhost:8080/"
        },
        "id": "lIYgK3XL69m3",
        "outputId": "c4fc13f3-e276-4708-f03b-e137474f0973"
      },
      "execution_count": null,
      "outputs": [
        {
          "output_type": "stream",
          "name": "stdout",
          "text": [
            "1/1 [==============================] - 0s 463ms/step\n",
            "1/1 [==============================] - 0s 31ms/step\n",
            "gallina buildings\n"
          ]
        }
      ]
    },
    {
      "cell_type": "code",
      "source": [
        "fernet = Fernet(sender_key.encode())  # Initialize Fernet with the selected key\n",
        "\n",
        "# Message to encode\n",
        "message = \"This is a secret message\"\n",
        "\n",
        "# Encode the message\n",
        "encoded_message = fernet.encrypt(message.encode())  # Encrypted bytes\n",
        "encoded_message_str = encoded_message.decode()\n",
        "print(f\"Encoded (String format): {encoded_message_str}\")\n",
        "\n",
        "steg = LSBSteg(cv2.imread(\"/content/ChickenBuildings1.png\"))\n",
        "img_encoded = steg.encode_text(encoded_message_str)\n",
        "cv2.imwrite(\"my_new_image.png\", img_encoded)\n",
        "\n",
        "xor_value_int = int(key_map, 2)\n",
        "xor_key = (\n",
        "    chr(ord(sender_key[0]) ^ xor_value_int) + sender_key[1:]\n",
        ")\n",
        "sender_key = xor_key\n",
        "print(\"XOR-ed Key:\", xor_key)"
      ],
      "metadata": {
        "colab": {
          "base_uri": "https://localhost:8080/"
        },
        "id": "2rbsdp6D4KYm",
        "outputId": "00f9e1f6-cf8c-4599-9856-78416bbe4af1"
      },
      "execution_count": null,
      "outputs": [
        {
          "output_type": "stream",
          "name": "stdout",
          "text": [
            "Encoded (String format): gAAAAABnN11rVxEfCMarqv9jloaH7knLANLPPsUClEh0o022VXdtape-NF3w0vmmiGUj9F1ZXhS-tbGPSAFIFaz6oLQw5rsdiBjyLTcKJ2HchHNd3dlK49w=\n",
            "XOR-ed Key: 8718RDKsAU1jjhm_EppvFiNBYczkU_re0ceAh1ppmcc=\n"
          ]
        }
      ]
    },
    {
      "cell_type": "markdown",
      "source": [
        "# Decryption with steg"
      ],
      "metadata": {
        "id": "I6KU714s6hPG"
      }
    },
    {
      "cell_type": "code",
      "source": [
        "key_map_out  = generate_byte(p_model,a_model,\"/content/my_new_image.png\")"
      ],
      "metadata": {
        "colab": {
          "base_uri": "https://localhost:8080/"
        },
        "id": "5EUUwRX66Frv",
        "outputId": "b4d00edb-2f1d-4cdd-dff9-c07e793fcefb"
      },
      "execution_count": null,
      "outputs": [
        {
          "output_type": "stream",
          "name": "stdout",
          "text": [
            "1/1 [==============================] - 0s 432ms/step\n",
            "1/1 [==============================] - 0s 31ms/step\n",
            "gallina buildings\n"
          ]
        }
      ]
    },
    {
      "cell_type": "code",
      "source": [
        "\n",
        "fernet_out = Fernet(receiver_key.encode())\n",
        "im = cv2.imread(\"my_new_image.png\")\n",
        "\n",
        "steg = LSBSteg(im)\n",
        "decoded_message_bytes = steg.decode_text().encode()  # Convert string back to bytes\n",
        "decoded_message = fernet_out.decrypt(decoded_message_bytes).decode()\n",
        "print(f\"Decoded: {decoded_message}\")\n",
        "# print(\"Encoded value:\",steg.decode_text())\n",
        "\n",
        "xor_value_int = int(key_map, 2)\n",
        "xor_key = (\n",
        "    chr(ord(receiver_key[0]) ^ xor_value_int) + receiver_key[1:]\n",
        ")\n",
        "receiver_key = xor_key\n",
        "print(\"XOR-ed Key:\", xor_key)"
      ],
      "metadata": {
        "colab": {
          "base_uri": "https://localhost:8080/"
        },
        "id": "4aYdKd6j58Yu",
        "outputId": "a338910e-8495-44e6-e764-a90e566f6f2b"
      },
      "execution_count": null,
      "outputs": [
        {
          "output_type": "stream",
          "name": "stdout",
          "text": [
            "Decoded: This is a secret message\n",
            "XOR-ed Key: 8718RDKsAU1jjhm_EppvFiNBYczkU_re0ceAh1ppmcc=\n"
          ]
        }
      ]
    },
    {
      "cell_type": "markdown",
      "source": [
        "This shows that both sender and receiver has update the key"
      ],
      "metadata": {
        "id": "SnF6PnoeRUfV"
      }
    },
    {
      "cell_type": "code",
      "source": [
        "print(sender_key == receiver_key)"
      ],
      "metadata": {
        "colab": {
          "base_uri": "https://localhost:8080/"
        },
        "id": "-3UFoCOQRBx0",
        "outputId": "02a79944-b96f-4b33-f1af-b8065026eed4"
      },
      "execution_count": null,
      "outputs": [
        {
          "output_type": "stream",
          "name": "stdout",
          "text": [
            "True\n"
          ]
        }
      ]
    },
    {
      "cell_type": "markdown",
      "source": [
        "# Encryption with steg(Step2)"
      ],
      "metadata": {
        "id": "3oBNZ3i-RdIN"
      }
    },
    {
      "cell_type": "code",
      "source": [
        "key_map  = generate_byte(p_model,a_model,\"/content/ChickenSea19.png\")"
      ],
      "metadata": {
        "colab": {
          "base_uri": "https://localhost:8080/"
        },
        "id": "NtVLxdG6RY2U",
        "outputId": "4002d497-9001-4427-adc1-2f390e6311ff"
      },
      "execution_count": null,
      "outputs": [
        {
          "output_type": "stream",
          "name": "stdout",
          "text": [
            "1/1 [==============================] - 0s 479ms/step\n",
            "1/1 [==============================] - 0s 29ms/step\n",
            "gallina sea\n"
          ]
        }
      ]
    },
    {
      "cell_type": "code",
      "source": [
        "fernet = Fernet(sender_key.encode())  # Initialize Fernet with the selected key\n",
        "\n",
        "# Message to encode\n",
        "message = \"This is the second secret message\"\n",
        "\n",
        "# Encode the message\n",
        "encoded_message = fernet.encrypt(message.encode())  # Encrypted bytes\n",
        "encoded_message_str = encoded_message.decode()\n",
        "print(f\"Encoded (String format): {encoded_message_str}\")\n",
        "\n",
        "steg = LSBSteg(cv2.imread(\"/content/ChickenSea19.png\"))\n",
        "img_encoded = steg.encode_text(encoded_message_str)\n",
        "cv2.imwrite(\"my_new_image2.png\", img_encoded)\n",
        "\n",
        "xor_value_int = int(key_map, 2)\n",
        "xor_key = (\n",
        "    chr(ord(sender_key[0]) ^ xor_value_int) + sender_key[1:]\n",
        ")\n",
        "sender_key = xor_key\n",
        "print(\"XOR-ed Key:\", xor_key)"
      ],
      "metadata": {
        "colab": {
          "base_uri": "https://localhost:8080/"
        },
        "id": "lB807SYXRndt",
        "outputId": "16495849-4cef-4fa4-8245-56369120e7c0"
      },
      "execution_count": null,
      "outputs": [
        {
          "output_type": "stream",
          "name": "stdout",
          "text": [
            "Encoded (String format): gAAAAABnN148fChlWAEYmaMQO4YJ26ej3oNYhjWMyd5JpVGZCMgqvFCPG9C9UPhU7WF91S_Nj2Ma4jMxKJXKVmhPpB7-24YukZ9y0-iJWvvOq8rRv3Lafw3_yqLCqV5lcGp_WNP5fEkq\n",
            "XOR-ed Key: 5718RDKsAU1jjhm_EppvFiNBYczkU_re0ceAh1ppmcc=\n"
          ]
        }
      ]
    },
    {
      "cell_type": "markdown",
      "source": [
        "# Decrpytion with steg (Step2)"
      ],
      "metadata": {
        "id": "IopZuyZSR0RM"
      }
    },
    {
      "cell_type": "code",
      "source": [
        "key_map_out  = generate_byte(p_model,a_model,\"/content/my_new_image2.png\")"
      ],
      "metadata": {
        "colab": {
          "base_uri": "https://localhost:8080/"
        },
        "id": "VGyrTrhlRz8d",
        "outputId": "0c1e3cdb-806c-4d11-eff3-8c17d00a68b1"
      },
      "execution_count": null,
      "outputs": [
        {
          "output_type": "stream",
          "name": "stdout",
          "text": [
            "1/1 [==============================] - 0s 462ms/step\n",
            "1/1 [==============================] - 0s 28ms/step\n",
            "gallina sea\n"
          ]
        }
      ]
    },
    {
      "cell_type": "code",
      "source": [
        "\n",
        "fernet_out = Fernet(receiver_key.encode())\n",
        "im = cv2.imread(\"my_new_image2.png\")\n",
        "\n",
        "steg = LSBSteg(im)\n",
        "decoded_message_bytes = steg.decode_text().encode()  # Convert string back to bytes\n",
        "decoded_message = fernet_out.decrypt(decoded_message_bytes).decode()\n",
        "print(f\"Decoded: {decoded_message}\")\n",
        "# print(\"Encoded value:\",steg.decode_text())\n",
        "\n",
        "xor_value_int = int(key_map, 2)\n",
        "xor_key = (\n",
        "    chr(ord(receiver_key[0]) ^ xor_value_int) + receiver_key[1:]\n",
        ")\n",
        "receiver_key = xor_key\n",
        "print(\"XOR-ed Key:\", xor_key)"
      ],
      "metadata": {
        "colab": {
          "base_uri": "https://localhost:8080/"
        },
        "id": "Ss2E4WGZSAqd",
        "outputId": "b4e36724-144b-46b9-cd39-3e3c36f0eb38"
      },
      "execution_count": null,
      "outputs": [
        {
          "output_type": "stream",
          "name": "stdout",
          "text": [
            "Decoded: This is the second secret message\n",
            "XOR-ed Key: 5718RDKsAU1jjhm_EppvFiNBYczkU_re0ceAh1ppmcc=\n"
          ]
        }
      ]
    },
    {
      "cell_type": "code",
      "source": [
        "print(sender_key == receiver_key)"
      ],
      "metadata": {
        "colab": {
          "base_uri": "https://localhost:8080/"
        },
        "id": "4d9QJX7SSGt9",
        "outputId": "9cb80406-3850-43f3-cb3b-0f225ed25f16"
      },
      "execution_count": null,
      "outputs": [
        {
          "output_type": "stream",
          "name": "stdout",
          "text": [
            "True\n"
          ]
        }
      ]
    }
  ]
}